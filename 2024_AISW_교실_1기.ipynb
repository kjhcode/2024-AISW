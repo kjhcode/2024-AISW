{
  "nbformat": 4,
  "nbformat_minor": 0,
  "metadata": {
    "colab": {
      "private_outputs": true,
      "provenance": [],
      "authorship_tag": "ABX9TyN+LXsAi4FGdH2BDjD4Ctx+",
      "include_colab_link": true
    },
    "kernelspec": {
      "name": "python3",
      "display_name": "Python 3"
    },
    "language_info": {
      "name": "python"
    }
  },
  "cells": [
    {
      "cell_type": "markdown",
      "metadata": {
        "id": "view-in-github",
        "colab_type": "text"
      },
      "source": [
        "<a href=\"https://colab.research.google.com/github/kjhcode/2024-AISW/blob/main/2024_AISW_%EA%B5%90%EC%8B%A4_1%EA%B8%B0.ipynb\" target=\"_parent\"><img src=\"https://colab.research.google.com/assets/colab-badge.svg\" alt=\"Open In Colab\"/></a>"
      ]
    },
    {
      "cell_type": "code",
      "execution_count": null,
      "metadata": {
        "id": "giLLP8dnFzrt"
      },
      "outputs": [],
      "source": [
        "import csv\n",
        "f=open('data1.csv')\n",
        "data=csv.reader(f)\n",
        "for row in data:\n",
        "  print(row)\n",
        "\n",
        "f.close()"
      ]
    },
    {
      "cell_type": "code",
      "source": [
        "import csv\n",
        "f=open('data1.csv')\n",
        "data=csv.reader(f)\n",
        "header=next(data)\n",
        "print(header)\n",
        "f.close()"
      ],
      "metadata": {
        "id": "K0NzVDalHpXM"
      },
      "execution_count": null,
      "outputs": []
    },
    {
      "cell_type": "code",
      "source": [
        "import csv\n",
        "f=open('data1.csv')\n",
        "data=csv.reader(f)\n",
        "header=next(data)\n",
        "print(header)\n",
        "for row in data:\n",
        "  print(row)\n",
        "f.close()"
      ],
      "metadata": {
        "id": "ocAS2GChIOEj"
      },
      "execution_count": null,
      "outputs": []
    },
    {
      "cell_type": "code",
      "source": [
        "import csv\n",
        "f=open('data1.csv')\n",
        "data=csv.reader(f)\n",
        "header=next(data)\n",
        "print(header)\n",
        "for row in data:\n",
        "  row[-1]=float(row[-1])\n",
        "  print(row)\n",
        "f.close()"
      ],
      "metadata": {
        "id": "P_xVPqaEIroI"
      },
      "execution_count": null,
      "outputs": []
    },
    {
      "cell_type": "code",
      "source": [
        "import csv\n",
        "f=open('data1.csv')\n",
        "data=csv.reader(f)\n",
        "header=next(data)\n",
        "print(header)\n",
        "for row in data:\n",
        "  row[-1]=float(row[-1])\n",
        "  row[-2]=float(row[-2])\n",
        "  print(row)\n",
        "f.close()"
      ],
      "metadata": {
        "id": "YYiOBEGZJ_Po"
      },
      "execution_count": null,
      "outputs": []
    },
    {
      "cell_type": "code",
      "source": [
        "import csv\n",
        "max_temp=-999\n",
        "max_date=' '\n",
        "f=open('data1.csv')\n",
        "data=csv.reader(f)\n",
        "header=next(data)\n",
        "print(header)\n",
        "for row in data:\n",
        "  row[-1]=float(row[-1])\n",
        "  if max_temp < row[-1]:\n",
        "    max_date=row[0]\n",
        "    max_temp=row[-1]\n",
        "f.close()\n",
        "print(max_date, max_temp)\n",
        "print('기상 관측 이래 광주의 최고 기온이 가장 높았던 날은',max_date+'로', max_temp,'도 였습니다.')"
      ],
      "metadata": {
        "id": "-FTJSxBjLRPv"
      },
      "execution_count": null,
      "outputs": []
    },
    {
      "cell_type": "code",
      "source": [
        "import csv\n",
        "min_temp=999\n",
        "min_date=' '\n",
        "f=open('data1.csv')\n",
        "data=csv.reader(f)\n",
        "header=next(data)\n",
        "print(header)\n",
        "for row in data:\n",
        "  row[-2]=float(row[-2])\n",
        "  if min_temp > row[-2]:\n",
        "    min_date=row[0]\n",
        "    min_temp=row[-2]\n",
        "f.close()\n",
        "print(min_date, min_temp)\n",
        "print('기상 관측 이래 광주의 최고 기온이 가장 높았던 날은',min_date+'로', min_temp,'도 였습니다.')"
      ],
      "metadata": {
        "id": "zGetcE9CNFfy"
      },
      "execution_count": null,
      "outputs": []
    },
    {
      "cell_type": "code",
      "source": [],
      "metadata": {
        "id": "Zd1dIqmVOTs7"
      },
      "execution_count": null,
      "outputs": []
    }
  ]
}