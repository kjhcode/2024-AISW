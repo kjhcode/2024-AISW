{
  "nbformat": 4,
  "nbformat_minor": 0,
  "metadata": {
    "colab": {
      "private_outputs": true,
      "provenance": [],
      "authorship_tag": "ABX9TyMxkB4HoS2l0yQQYsrKIDC4",
      "include_colab_link": true
    },
    "kernelspec": {
      "name": "python3",
      "display_name": "Python 3"
    },
    "language_info": {
      "name": "python"
    }
  },
  "cells": [
    {
      "cell_type": "markdown",
      "metadata": {
        "id": "view-in-github",
        "colab_type": "text"
      },
      "source": [
        "<a href=\"https://colab.research.google.com/github/kjhcode/2024-AISW/blob/main/2024_AISW_%EA%B5%90%EC%8B%A4_1%EA%B8%B0.ipynb\" target=\"_parent\"><img src=\"https://colab.research.google.com/assets/colab-badge.svg\" alt=\"Open In Colab\"/></a>"
      ]
    },
    {
      "cell_type": "code",
      "execution_count": null,
      "metadata": {
        "id": "giLLP8dnFzrt"
      },
      "outputs": [],
      "source": [
        "import csv\n",
        "f=open('data1.csv')\n",
        "data=csv.reader(f)\n",
        "for row in data:\n",
        "  print(row)\n",
        "\n",
        "f.close()"
      ]
    },
    {
      "cell_type": "code",
      "source": [
        "import csv\n",
        "f=open('data1.csv')\n",
        "data=csv.reader(f)\n",
        "header=next(data)\n",
        "print(header)\n",
        "f.close()"
      ],
      "metadata": {
        "id": "K0NzVDalHpXM"
      },
      "execution_count": null,
      "outputs": []
    },
    {
      "cell_type": "code",
      "source": [
        "import csv\n",
        "f=open('data1.csv')\n",
        "data=csv.reader(f)\n",
        "header=next(data)\n",
        "print(header)\n",
        "for row in data:\n",
        "  print(row)\n",
        "f.close()"
      ],
      "metadata": {
        "id": "ocAS2GChIOEj"
      },
      "execution_count": null,
      "outputs": []
    },
    {
      "cell_type": "code",
      "source": [
        "import csv\n",
        "f=open('data1.csv')\n",
        "data=csv.reader(f)\n",
        "header=next(data)\n",
        "print(header)\n",
        "for row in data:\n",
        "  row[-1]=float(row[-1])\n",
        "  print(row)\n",
        "f.close()"
      ],
      "metadata": {
        "id": "P_xVPqaEIroI"
      },
      "execution_count": null,
      "outputs": []
    },
    {
      "cell_type": "code",
      "source": [
        "import csv\n",
        "f=open('data1.csv')\n",
        "data=csv.reader(f)\n",
        "header=next(data)\n",
        "print(header)\n",
        "for row in data:\n",
        "  row[-1]=float(row[-1])\n",
        "  row[-2]=float(row[-2])\n",
        "  print(row)\n",
        "f.close()"
      ],
      "metadata": {
        "id": "YYiOBEGZJ_Po"
      },
      "execution_count": null,
      "outputs": []
    },
    {
      "cell_type": "code",
      "source": [
        "import csv\n",
        "max_temp=-999\n",
        "max_date=' '\n",
        "f=open('data1.csv')\n",
        "data=csv.reader(f)\n",
        "header=next(data)\n",
        "print(header)\n",
        "for row in data:\n",
        "  row[-1]=float(row[-1])\n",
        "  if max_temp < row[-1]:\n",
        "    max_date=row[0]\n",
        "    max_temp=row[-1]\n",
        "f.close()\n",
        "print(max_date, max_temp)\n",
        "print('기상 관측 이래 광주의 최고 기온이 가장 높았던 날은',max_date+'로', max_temp,'도 였습니다.')"
      ],
      "metadata": {
        "id": "-FTJSxBjLRPv"
      },
      "execution_count": null,
      "outputs": []
    },
    {
      "cell_type": "code",
      "source": [
        "import csv\n",
        "min_temp=999\n",
        "min_date=' '\n",
        "f=open('data1.csv')\n",
        "data=csv.reader(f)\n",
        "header=next(data)\n",
        "print(header)\n",
        "for row in data:\n",
        "  row[-2]=float(row[-2])\n",
        "  if min_temp > row[-2]:\n",
        "    min_date=row[0]\n",
        "    min_temp=row[-2]\n",
        "f.close()\n",
        "print(min_date, min_temp)\n",
        "print('기상 관측 이래 광주의 최고 기온이 가장 높았던 날은',min_date+'로', min_temp,'도 였습니다.')"
      ],
      "metadata": {
        "id": "zGetcE9CNFfy"
      },
      "execution_count": null,
      "outputs": []
    },
    {
      "cell_type": "code",
      "source": [
        "!sudo apt-get install -y fonts-nanum\n",
        "!sudo fc-cache -fv\n",
        "!rm ~/.cache/matplotlib -rf"
      ],
      "metadata": {
        "id": "Spe1VmNMC9bq"
      },
      "execution_count": null,
      "outputs": []
    },
    {
      "cell_type": "code",
      "source": [
        "import matplotlib.pyplot as plt\n",
        "plt.rc('font', family='NanumBarunGothic')\n",
        "#plt.rcParams['axes.unicode_minus'] =False"
      ],
      "metadata": {
        "id": "lCYkATtVDBza"
      },
      "execution_count": null,
      "outputs": []
    },
    {
      "cell_type": "code",
      "source": [
        "import matplotlib.pyplot as plt\n",
        "plt.plot([10,20,30,40])\n",
        "plt.show()"
      ],
      "metadata": {
        "id": "vwj2cjH9DhSM"
      },
      "execution_count": null,
      "outputs": []
    },
    {
      "cell_type": "code",
      "source": [
        "import matplotlib.pyplot as plt\n",
        "plt.plot([10,20,30,40])\n",
        "plt.title(\"그래프\")\n",
        "plt.show()"
      ],
      "metadata": {
        "id": "Zd1dIqmVOTs7"
      },
      "execution_count": null,
      "outputs": []
    },
    {
      "cell_type": "code",
      "source": [
        "import matplotlib.pyplot as plt\n",
        "plt.title(\"범례넣기\")\n",
        "plt.plot([10,20,30,40], label=\"범례1\")\n",
        "plt.plot([40,30,20,10], label=\"범례2\")\n",
        "plt.legend()\n",
        "plt.show()"
      ],
      "metadata": {
        "id": "cNVOuBLWFdR7"
      },
      "execution_count": null,
      "outputs": []
    },
    {
      "cell_type": "code",
      "source": [
        "import matplotlib.pyplot as plt\n",
        "plt.title(\"컬러변경\")\n",
        "plt.plot([10,20,30,40],color=\"skyblue\", label=\"범례1\")\n",
        "plt.plot([40,30,20,10],color=\"pink\", label=\"범례2\")\n",
        "plt.legend()\n",
        "plt.show()"
      ],
      "metadata": {
        "id": "dukz3PD1GKxy"
      },
      "execution_count": null,
      "outputs": []
    },
    {
      "cell_type": "code",
      "source": [
        "import matplotlib.pyplot as plt\n",
        "plt.title(\"선변경\")\n",
        "plt.plot([10,20,30,40],color=\"r\", ls='--',label=\"dashed\")\n",
        "plt.plot([40,30,20,10],color=\"g\", linestyle=':',label=\"datted\")\n",
        "plt.legend()\n",
        "plt.show()"
      ],
      "metadata": {
        "id": "XOWy5metGaxg"
      },
      "execution_count": null,
      "outputs": []
    },
    {
      "cell_type": "code",
      "source": [
        "import matplotlib.pyplot as plt\n",
        "plt.title('marker') # 제목 설정\n",
        "plt.plot([10, 20, 30, 40], 'r.', label ='circle')\n",
        "plt.plot([40, 30, 20, 10], 'g^', label ='triangle up')\n",
        "plt.legend() # 범례 표시\n",
        "plt.show()"
      ],
      "metadata": {
        "id": "P0O7w0NyJD0f"
      },
      "execution_count": null,
      "outputs": []
    },
    {
      "cell_type": "code",
      "source": [
        "import csv\n",
        "import matplotlib.pyplot as plt\n",
        "\n",
        "plt.rcParams['font.family'] = 'DejaVu Sans'\n",
        "f =open('data1.csv')\n",
        "data = csv.reader(f)\n",
        "next(data)\n",
        "\n",
        "print(\"생일을 입력하세요\")\n",
        "m=input(\"월입력(ex.01): \")\n",
        "d=input(\"일입력(ex.23): \")\n",
        "\n",
        "high = [] # 최고 기온 값을 저장할 리스트 high 생성\n",
        "low = [] # 최저 기온 값을 저장할 리스트 low 생성\n",
        "years = []  # 연도 값을 저장할 리스트 생성\n",
        "\n",
        "for row in data:\n",
        "    if row[-1] != '' and row[-2] != '': # 최고 기온 값과 최저 기온 값이 존재한다면\n",
        "        date = row[0].split('-') # 날짜 값을 – 문자를 기준으로 구분하여 저장\n",
        "        if 2020 <= int(date[0]): # 2020년 이후 데이터라면\n",
        "            if date[1] == m and date[2] == d: # 생일로 변경(2자리수)\n",
        "                years.append(date[0]) # 해당 연도를 years 리스트에 저장\n",
        "                high.append(float(row[-1])) # 최고 기온 값을 high 리스트에 저장\n",
        "                low.append(float(row[-2])) # 최저 기온 값을 low 리스트에 저장\n",
        "# 연도를 오름차순으로 정렬\n",
        "#years, high, low = zip(*sorted(zip(years, high, low)))   #zip() 함수와 sorted() 함수를 사용하여 years 기준으로 오름차순 정렬합니다.\n",
        "\n",
        "#plt.rcParams['axes.unicode_minus'] = False # 마이너스 기호 깨짐 방지\n",
        "plt.title('A graph of the temperature change on my birthday') # 제목 설정\n",
        "plt.plot(years, high, 'hotpink', label='high') # 연도별 최고 기온을 hotpink 색으로 그리고 레이블을 표시\n",
        "plt.plot(years, low, 'skyblue', label='low') # 연도별 최저 기온을 skyblue 색으로 그리고 레이블을 표시\n",
        "plt.xlabel('Year')  # x 축 라벨 설정\n",
        "plt.ylabel('Temperature')  # y 축 라벨 설정\n",
        "plt.legend() # 범례 표시\n",
        "plt.show() # 그래프 나타내기"
      ],
      "metadata": {
        "id": "6pJQKSwVK4Na"
      },
      "execution_count": null,
      "outputs": []
    }
  ]
}